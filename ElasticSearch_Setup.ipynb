{
 "cells": [
  {
   "cell_type": "code",
   "execution_count": 1,
   "id": "285d9cdd",
   "metadata": {},
   "outputs": [],
   "source": [
    "import requests"
   ]
  },
  {
   "cell_type": "code",
   "execution_count": 2,
   "id": "10e609fa",
   "metadata": {},
   "outputs": [],
   "source": [
    "from haystack.nodes import PDFToTextConverter,PreProcessor\n",
    "from haystack.utils import convert_files_to_docs,clean_wiki_text"
   ]
  },
  {
   "cell_type": "code",
   "execution_count": 3,
   "id": "985a085f",
   "metadata": {},
   "outputs": [],
   "source": [
    "url = \"search-auto-insurance-nbdvjfxbsyudd5yhpq3e4ic6bu.ap-south-1.es.amazonaws.com\"\n",
    "username = \"tarunm\"\n",
    "password = \"May#2022password\""
   ]
  },
  {
   "cell_type": "code",
   "execution_count": 4,
   "id": "fa57ed54",
   "metadata": {},
   "outputs": [
    {
     "data": {
      "text/plain": [
       "{'acknowledged': True}"
      ]
     },
     "execution_count": 4,
     "metadata": {},
     "output_type": "execute_result"
    }
   ],
   "source": [
    "requests.delete(\"https://search-auto-insurance-nbdvjfxbsyudd5yhpq3e4ic6bu.ap-south-1.es.amazonaws.com/auto-insurance/\",auth=(username, password)).json()"
   ]
  },
  {
   "cell_type": "code",
   "execution_count": 5,
   "id": "ff46b585",
   "metadata": {},
   "outputs": [
    {
     "data": {
      "text/plain": [
       "{'cluster_name': '201328346379:auto-insurance',\n",
       " 'status': 'green',\n",
       " 'timed_out': False,\n",
       " 'number_of_nodes': 3,\n",
       " 'number_of_data_nodes': 3,\n",
       " 'discovered_master': True,\n",
       " 'active_primary_shards': 8,\n",
       " 'active_shards': 17,\n",
       " 'relocating_shards': 0,\n",
       " 'initializing_shards': 0,\n",
       " 'unassigned_shards': 0,\n",
       " 'delayed_unassigned_shards': 0,\n",
       " 'number_of_pending_tasks': 0,\n",
       " 'number_of_in_flight_fetch': 0,\n",
       " 'task_max_waiting_in_queue_millis': 0,\n",
       " 'active_shards_percent_as_number': 100.0}"
      ]
     },
     "execution_count": 5,
     "metadata": {},
     "output_type": "execute_result"
    }
   ],
   "source": [
    "requests.get('https://search-auto-insurance-nbdvjfxbsyudd5yhpq3e4ic6bu.ap-south-1.es.amazonaws.com/_cluster/health',auth=(username, password)).json()"
   ]
  },
  {
   "cell_type": "code",
   "execution_count": null,
   "id": "8dedfb60",
   "metadata": {},
   "outputs": [],
   "source": []
  },
  {
   "cell_type": "code",
   "execution_count": 6,
   "id": "dc86b847",
   "metadata": {},
   "outputs": [],
   "source": [
    "from haystack.document_stores import OpenSearchDocumentStore"
   ]
  },
  {
   "cell_type": "code",
   "execution_count": 7,
   "id": "20677554",
   "metadata": {},
   "outputs": [],
   "source": [
    "from haystack.nodes import TextConverter,PreProcessor"
   ]
  },
  {
   "cell_type": "code",
   "execution_count": 8,
   "id": "01c1d1d2",
   "metadata": {},
   "outputs": [
    {
     "name": "stderr",
     "output_type": "stream",
     "text": [
      "INFO - haystack.utils.preprocessing -  Converting output\\policy.txt\n",
      "  0%|                                                                                          | 0/2 [00:00<?, ?docs/s]WARNING - haystack.nodes.preprocessor.preprocessor -  One or more sentence found with word count higher than the split length.\n",
      "100%|██████████████████████████████████████████████████████████████████████████████████| 2/2 [00:00<00:00, 62.87docs/s]"
     ]
    },
    {
     "name": "stdout",
     "output_type": "stream",
     "text": [
      "n_files_input: 2\n",
      "n_docs_output: 90\n"
     ]
    },
    {
     "name": "stderr",
     "output_type": "stream",
     "text": [
      "\n"
     ]
    }
   ],
   "source": [
    "all_docs = convert_files_to_docs(dir_path='output', split_paragraphs=True)\n",
    "preprocessor = PreProcessor(\n",
    "    clean_empty_lines=True,\n",
    "    clean_whitespace=True,\n",
    "    clean_header_footer=False,\n",
    "    split_by=\"word\",\n",
    "    split_length=10,\n",
    "    split_overlap=2,\n",
    "    split_respect_sentence_boundary=True,\n",
    ")\n",
    "docs = preprocessor.process(all_docs)\n",
    "\n",
    "print(f\"n_files_input: {len(all_docs)}\\nn_docs_output: {len(docs)}\")"
   ]
  },
  {
   "cell_type": "code",
   "execution_count": 9,
   "id": "d57eeb4f",
   "metadata": {},
   "outputs": [
    {
     "name": "stderr",
     "output_type": "stream",
     "text": [
      "d:\\exl-chatbot\\env\\lib\\site-packages\\elasticsearch\\connection\\http_urllib3.py:204: UserWarning: Connecting to https://search-auto-insurance-nbdvjfxbsyudd5yhpq3e4ic6bu.ap-south-1.es.amazonaws.com:443 using SSL with verify_certs=False is insecure.\n",
      "  warnings.warn(\n",
      "d:\\exl-chatbot\\env\\lib\\site-packages\\urllib3\\connectionpool.py:1043: InsecureRequestWarning: Unverified HTTPS request is being made to host 'search-auto-insurance-nbdvjfxbsyudd5yhpq3e4ic6bu.ap-south-1.es.amazonaws.com'. Adding certificate verification is strongly advised. See: https://urllib3.readthedocs.io/en/1.26.x/advanced-usage.html#ssl-warnings\n",
      "  warnings.warn(\n",
      "d:\\exl-chatbot\\env\\lib\\site-packages\\urllib3\\connectionpool.py:1043: InsecureRequestWarning: Unverified HTTPS request is being made to host 'search-auto-insurance-nbdvjfxbsyudd5yhpq3e4ic6bu.ap-south-1.es.amazonaws.com'. Adding certificate verification is strongly advised. See: https://urllib3.readthedocs.io/en/1.26.x/advanced-usage.html#ssl-warnings\n",
      "  warnings.warn(\n",
      "d:\\exl-chatbot\\env\\lib\\site-packages\\urllib3\\connectionpool.py:1043: InsecureRequestWarning: Unverified HTTPS request is being made to host 'search-auto-insurance-nbdvjfxbsyudd5yhpq3e4ic6bu.ap-south-1.es.amazonaws.com'. Adding certificate verification is strongly advised. See: https://urllib3.readthedocs.io/en/1.26.x/advanced-usage.html#ssl-warnings\n",
      "  warnings.warn(\n",
      "d:\\exl-chatbot\\env\\lib\\site-packages\\urllib3\\connectionpool.py:1043: InsecureRequestWarning: Unverified HTTPS request is being made to host 'search-auto-insurance-nbdvjfxbsyudd5yhpq3e4ic6bu.ap-south-1.es.amazonaws.com'. Adding certificate verification is strongly advised. See: https://urllib3.readthedocs.io/en/1.26.x/advanced-usage.html#ssl-warnings\n",
      "  warnings.warn(\n"
     ]
    }
   ],
   "source": [
    "    # Connect to Elasticsearch\n",
    "\n",
    "document_store = OpenSearchDocumentStore(host=url,port=443, username=username, password=password, index=\"auto-insurance\")"
   ]
  },
  {
   "cell_type": "code",
   "execution_count": 10,
   "id": "c147375a",
   "metadata": {},
   "outputs": [
    {
     "name": "stderr",
     "output_type": "stream",
     "text": [
      "d:\\exl-chatbot\\env\\lib\\site-packages\\urllib3\\connectionpool.py:1043: InsecureRequestWarning: Unverified HTTPS request is being made to host 'search-auto-insurance-nbdvjfxbsyudd5yhpq3e4ic6bu.ap-south-1.es.amazonaws.com'. Adding certificate verification is strongly advised. See: https://urllib3.readthedocs.io/en/1.26.x/advanced-usage.html#ssl-warnings\n",
      "  warnings.warn(\n"
     ]
    }
   ],
   "source": [
    "document_store.write_documents(docs)"
   ]
  },
  {
   "cell_type": "code",
   "execution_count": 11,
   "id": "9aae8edb",
   "metadata": {},
   "outputs": [
    {
     "data": {
      "text/plain": [
       "{'count': 90,\n",
       " '_shards': {'total': 5, 'successful': 5, 'skipped': 0, 'failed': 0}}"
      ]
     },
     "execution_count": 11,
     "metadata": {},
     "output_type": "execute_result"
    }
   ],
   "source": [
    "requests.get(\"https://search-auto-insurance-nbdvjfxbsyudd5yhpq3e4ic6bu.ap-south-1.es.amazonaws.com/auto-insurance/_count\",auth=(username, password)).json()"
   ]
  },
  {
   "cell_type": "code",
   "execution_count": 12,
   "id": "1ba02554",
   "metadata": {},
   "outputs": [
    {
     "name": "stdout",
     "output_type": "stream",
     "text": [
      "[<Document: {'content': 'How to reach us 24/7.Call, visit or e-mail your Allstate agency,Call 1-800-ALLSTATE (1-800-255-7828),Log on to create an account at allstate.com.', 'content_type': 'text', 'score': None, 'meta': {'name': 'policy.txt', '_split_id': 0}, 'embedding': None, 'id': '6afc7765e2e0843fad349e4add10b762'}>, <Document: {'content': 'How to reach us 24/7.Call, visit or e-mail your Allstate agency,Call 1-800-ALLSTATE (1-800-255-7828),Log on to create an account at allstate.com. Call your local Allstate Agent or 1-800-ALLSTATE to find out about product availability and qualifications in your state.', 'content_type': 'text', 'score': None, 'meta': {'name': 'policy.txt', '_split_id': 1}, 'embedding': None, 'id': 'd66d0a8644da45d38e665e78904e04a8'}>, <Document: {'content': 'Call your local Allstate Agent or 1-800-ALLSTATE to find out about product availability and qualifications in your state. Total premium.', 'content_type': 'text', 'score': None, 'meta': {'name': 'policy.txt', '_split_id': 2}, 'embedding': None, 'id': 'b7992e10fc35099e120dd2fd11142d72'}>, <Document: {'content': 'Total premium. Each vehicle you insure has its own premium amount.This total is for all the listed vehicles for the policy period.', 'content_type': 'text', 'score': None, 'meta': {'name': 'policy.txt', '_split_id': 3}, 'embedding': None, 'id': 'f3022ae6de547b040e1fc1c9554b4ade'}>, <Document: {'content': 'Each vehicle you insure has its own premium amount.This total is for all the listed vehicles for the policy period. Coverages.', 'content_type': 'text', 'score': None, 'meta': {'name': 'policy.txt', '_split_id': 4}, 'embedding': None, 'id': '17e410212291c483f54cb1aa25d194a5'}>, <Document: {'content': 'Each vehicle you insure has its own premium amount.This total is for all the listed vehicles for the policy period. Coverages. If you have more than one car, the coverages will be listed on separate pages for each vehicle.', 'content_type': 'text', 'score': None, 'meta': {'name': 'policy.txt', '_split_id': 5}, 'embedding': None, 'id': 'd3741be3975b150245cdc16741a4039b'}>, <Document: {'content': 'If you have more than one car, the coverages will be listed on separate pages for each vehicle. Coverage limits.This shows the maximum limit Allstate will pay for each covered accident, for each type of coverage.', 'content_type': 'text', 'score': None, 'meta': {'name': 'policy.txt', '_split_id': 6}, 'embedding': None, 'id': 'd1f16983fa40818c77281a19a7c10dd1'}>, <Document: {'content': 'Coverage limits.This shows the maximum limit Allstate will pay for each covered accident, for each type of coverage. Deductibles.', 'content_type': 'text', 'score': None, 'meta': {'name': 'policy.txt', '_split_id': 7}, 'embedding': None, 'id': '5272649d73280fbde5c5f563f0aac1ab'}>, <Document: {'content': 'Coverage limits.This shows the maximum limit Allstate will pay for each covered accident, for each type of coverage. Deductibles. This shows how much you will pay out of pocket for damage to your vehicle for each covered accident.', 'content_type': 'text', 'score': None, 'meta': {'name': 'policy.txt', '_split_id': 8}, 'embedding': None, 'id': '9a9b3dab7c44cc65af728daa0ad2a5d7'}>, <Document: {'content': 'This shows how much you will pay out of pocket for damage to your vehicle for each covered accident. What does “covered accident” mean?', 'content_type': 'text', 'score': None, 'meta': {'name': 'policy.txt', '_split_id': 9}, 'embedding': None, 'id': 'b4a2fb3ec54f61e2a170c62d7e07dd89'}>, <Document: {'content': 'What does “covered accident” mean? It’s an insurance term that means an accident that falls within the bounds of the policy.Throughout the rest of this brochure, when we refer to an accident, we assume it is a covered accident.', 'content_type': 'text', 'score': None, 'meta': {'name': 'policy.txt', '_split_id': 10}, 'embedding': None, 'id': 'c205783c859a27aeec0bff2e07397550'}>, <Document: {'content': 'It’s an insurance term that means an accident that falls within the bounds of the policy.Throughout the rest of this brochure, when we refer to an accident, we assume it is a covered accident. Policy period.', 'content_type': 'text', 'score': None, 'meta': {'name': 'policy.txt', '_split_id': 11}, 'embedding': None, 'id': 'eba537cbf6d3d6448818c62273c242f'}>, <Document: {'content': 'Policy period. When you pay your premium by the due date, your policy automatically continues for the time period shown, usually six months.', 'content_type': 'text', 'score': None, 'meta': {'name': 'policy.txt', '_split_id': 12}, 'embedding': None, 'id': 'e03462bfe47974c4551e4844befa151d'}>, <Document: {'content': 'When you pay your premium by the due date, your policy automatically continues for the time period shown, usually six months. If you’re at fault in an accident, you could be held legally responsible for injury or damage caused by the accident.All drivers are required by law to have both of these liability coverages:\\nBodily Injury Liability helps protect you from paying medical costs, loss of income and funeral expenses of other people involved in an accident.', 'content_type': 'text', 'score': None, 'meta': {'name': 'policy.txt', '_split_id': 13}, 'embedding': None, 'id': 'b067e50047096c71a50db2544fbd575c'}>, <Document: {'content': 'If you’re at fault in an accident, you could be held legally responsible for injury or damage caused by the accident.All drivers are required by law to have both of these liability coverages:\\nBodily Injury Liability helps protect you from paying medical costs, loss of income and funeral expenses of other people involved in an accident. Property Damage Liability helps protect you from paying for the repair or replacement of another driver’s car.', 'content_type': 'text', 'score': None, 'meta': {'name': 'policy.txt', '_split_id': 14}, 'embedding': None, 'id': '6355cf299e71e02e897fa33e9042f8bf'}>, <Document: {'content': 'Property Damage Liability helps protect you from paying for the repair or replacement of another driver’s car. Automobile Liability Insurance can help protect your assets.', 'content_type': 'text', 'score': None, 'meta': {'name': 'policy.txt', '_split_id': 15}, 'embedding': None, 'id': 'ce07eac147fafea6557ca6f91fa5936f'}>, <Document: {'content': 'Automobile Liability Insurance can help protect your assets. Which vehicles are usually covered by an Allstate Policy?The vehicle(s) listed on your Policy Declarations or any car you replace it with:\\nAny car you drive while yours is being repaired due to an accident\\nAny car you rent or borrow\\nIf you damage another person’s car or other property in an accident,Allstate can help protect you from paying for those damages.', 'content_type': 'text', 'score': None, 'meta': {'name': 'policy.txt', '_split_id': 16}, 'embedding': None, 'id': 'b205275905eda11c2ec16c7d50d78b0c'}>, <Document: {'content': 'Which vehicles are usually covered by an Allstate Policy?The vehicle(s) listed on your Policy Declarations or any car you replace it with:\\nAny car you drive while yours is being repaired due to an accident\\nAny car you rent or borrow\\nIf you damage another person’s car or other property in an accident,Allstate can help protect you from paying for those damages. Who’s covered under an Allstate policy?', 'content_type': 'text', 'score': None, 'meta': {'name': 'policy.txt', '_split_id': 17}, 'embedding': None, 'id': 'dc9f873eeb8af5aa231772258d057b3f'}>, <Document: {'content': 'Who’s covered under an Allstate policy? You, the policy owner\\nAny resident in your home who has a driver’s license\\nAnyone you give permission to use your car\\nIf you injure someone in an accident, Allstate can help protect you from losing your savings or home to pay for those damages.', 'content_type': 'text', 'score': None, 'meta': {'name': 'policy.txt', '_split_id': 18}, 'embedding': None, 'id': 'fee65dc67332bc4938b7e6610917ba65'}>, <Document: {'content': 'You, the policy owner\\nAny resident in your home who has a driver’s license\\nAnyone you give permission to use your car\\nIf you injure someone in an accident, Allstate can help protect you from losing your savings or home to pay for those damages. Bodily Injury Coverage includes your injuries or death,or those of your passengers or family members driving your car if it’s hit by a driver with little or no insurance.', 'content_type': 'text', 'score': None, 'meta': {'name': 'policy.txt', '_split_id': 19}, 'embedding': None, 'id': '14d66cc78efe77d38c8cb43eb3a7bbaf'}>, <Document: {'content': 'Bodily Injury Coverage includes your injuries or death,or those of your passengers or family members driving your car if it’s hit by a driver with little or no insurance. Property Damage Coverage includes damage to your car or property if you’re hit by a driver with little or no insurance(Not available in all states.)', 'content_type': 'text', 'score': None, 'meta': {'name': 'policy.txt', '_split_id': 20}, 'embedding': None, 'id': 'ba303cd6dc564cf29a3dcecc9802a656'}>, <Document: {'content': 'Property Damage Coverage includes damage to your car or property if you’re hit by a driver with little or no insurance(Not available in all states.) There’s a coverage available to protect you from drivers with no insurance.', 'content_type': 'text', 'score': None, 'meta': {'name': 'policy.txt', '_split_id': 21}, 'embedding': None, 'id': '71b1220211c1e642c01271d2b96461dd'}>, <Document: {'content': 'There’s a coverage available to protect you from drivers with no insurance. There are a lot of drivers out there who may not have car insurance.', 'content_type': 'text', 'score': None, 'meta': {'name': 'policy.txt', '_split_id': 22}, 'embedding': None, 'id': '95d218bd9a967eebf12b0dee5ca9d5e9'}>, <Document: {'content': 'There are a lot of drivers out there who may not have car insurance. What if one of them crashes into you?Uninsured/Underinsured Motorist Coverage can help.', 'content_type': 'text', 'score': None, 'meta': {'name': 'policy.txt', '_split_id': 23}, 'embedding': None, 'id': 'c889b00326e6fb9fe5034714f0332d1c'}>, <Document: {'content': 'What if one of them crashes into you?Uninsured/Underinsured Motorist Coverage can help. It’s divided into two parts:If your car is damaged in an accident by a driver with little or no car insurance, Allstate may help pay for repairs or replacement.', 'content_type': 'text', 'score': None, 'meta': {'name': 'policy.txt', '_split_id': 24}, 'embedding': None, 'id': 'dbe2c4a4e27437d987be2a41e1a8462a'}>, <Document: {'content': 'It’s divided into two parts:If your car is damaged in an accident by a driver with little or no car insurance, Allstate may help pay for repairs or replacement. If you are hurt in a car accident by a driver with little or no insurance, Allstate will help pay for medical expenses.', 'content_type': 'text', 'score': None, 'meta': {'name': 'policy.txt', '_split_id': 25}, 'embedding': None, 'id': '69c8d3582608b85c2d6033e38d646f31'}>, <Document: {'content': 'If you are hurt in a car accident by a driver with little or no insurance, Allstate will help pay for medical expenses. Automobile Medical Payments Coverage can help pay for some of your medical costs or funeral expenses if you or anyone in your vehicle is injured in an accident.', 'content_type': 'text', 'score': None, 'meta': {'name': 'policy.txt', '_split_id': 26}, 'embedding': None, 'id': 'ca98c2e6d2e98b7b3d4c144bb25af36f'}>, <Document: {'content': 'Automobile Medical Payments Coverage can help pay for some of your medical costs or funeral expenses if you or anyone in your vehicle is injured in an accident. There’s a coverage that can also help pay for your injuries from an accident.', 'content_type': 'text', 'score': None, 'meta': {'name': 'policy.txt', '_split_id': 27}, 'embedding': None, 'id': 'd5aac0c98a011351ece294938a6538f8'}>, <Document: {'content': 'There’s a coverage that can also help pay for your injuries from an accident. If you’re in an accident, whether it’s your fault or someone else’s, paying for medical care can be a concern.', 'content_type': 'text', 'score': None, 'meta': {'name': 'policy.txt', '_split_id': 28}, 'embedding': None, 'id': 'ed37b2eb228b4d890c0159af734f5400'}>, <Document: {'content': 'If you’re in an accident, whether it’s your fault or someone else’s, paying for medical care can be a concern. That’s where Allstate Medical Payments Coverage comes in.', 'content_type': 'text', 'score': None, 'meta': {'name': 'policy.txt', '_split_id': 29}, 'embedding': None, 'id': 'ccfa398ef81e12065512c5b69b5312ff'}>, <Document: {'content': 'That’s where Allstate Medical Payments Coverage comes in. In some states, this coverage may be known as Personal Injury Protection and may cover additional expenses such as loss of wages while you’re recovering from an accident.', 'content_type': 'text', 'score': None, 'meta': {'name': 'policy.txt', '_split_id': 30}, 'embedding': None, 'id': 'f010c2dc4ad6b08d7fe13e7c773050d'}>, <Document: {'content': 'In some states, this coverage may be known as Personal Injury Protection and may cover additional expenses such as loss of wages while you’re recovering from an accident. If you’re injured in an auto accident, Allstate will help pay for medical services you receive within one year of the accident.', 'content_type': 'text', 'score': None, 'meta': {'name': 'policy.txt', '_split_id': 31}, 'embedding': None, 'id': '874fb8d0ce14a731b4e98b068a23dfa8'}>, <Document: {'content': 'If you’re injured in an auto accident, Allstate will help pay for medical services you receive within one year of the accident. This coverage also applies if you’re a pedestrian struck by a car.', 'content_type': 'text', 'score': None, 'meta': {'name': 'policy.txt', '_split_id': 32}, 'embedding': None, 'id': '8209a41447bf78740961fe6b3a9e3480'}>, <Document: {'content': 'This coverage also applies if you’re a pedestrian struck by a car. Your coverage may include hospital bills,surgeries, x-rays, dental, pharmaceuticals,nursing services and more due to an injury from an auto accident.', 'content_type': 'text', 'score': None, 'meta': {'name': 'policy.txt', '_split_id': 33}, 'embedding': None, 'id': 'f024486fe93c8f05f8d11a79ebdda448'}>, <Document: {'content': 'Your coverage may include hospital bills,surgeries, x-rays, dental, pharmaceuticals,nursing services and more due to an injury from an auto accident. If you crash your car, your car insurance can help to repair or replace it so you can get back on the road again quickly.', 'content_type': 'text', 'score': None, 'meta': {'name': 'policy.txt', '_split_id': 34}, 'embedding': None, 'id': '5cb4346d40ad8f21a66f47cfb2cfe1e6'}>, <Document: {'content': 'If you crash your car, your car insurance can help to repair or replace it so you can get back on the road again quickly. There are two types of\\ncoverages to consider:For each of these coverages, you may be responsible for the deductible amount you’ve selected.', 'content_type': 'text', 'score': None, 'meta': {'name': 'policy.txt', '_split_id': 35}, 'embedding': None, 'id': '10cd0a955cf244dd84d847e25702fe4f'}>, <Document: {'content': 'There are two types of\\ncoverages to consider:For each of these coverages, you may be responsible for the deductible amount you’ve selected. Collision Coverage pays for damage to your car if you collide with another car or something else such as a building, bridge or tree.', 'content_type': 'text', 'score': None, 'meta': {'name': 'policy.txt', '_split_id': 36}, 'embedding': None, 'id': '1b3c0b0641e649604951a5c9eb3c1adb'}>, <Document: {'content': 'Collision Coverage pays for damage to your car if you collide with another car or something else such as a building, bridge or tree. If someone hits your parked car, this is considered a collision as well.', 'content_type': 'text', 'score': None, 'meta': {'name': 'policy.txt', '_split_id': 37}, 'embedding': None, 'id': 'dcf4776dd499c82ca3fd618063fc3f5'}>, <Document: {'content': 'If someone hits your parked car, this is considered a collision as well. Comprehensive Coverage pays for damage or loss to your car caused by something other than a collision such as theft, fire, vandalism, windstorm or hitting an animal.', 'content_type': 'text', 'score': None, 'meta': {'name': 'policy.txt', '_split_id': 38}, 'embedding': None, 'id': '73c95715755c15be7ef1971017f49ff7'}>, <Document: {'content': 'Comprehensive Coverage pays for damage or loss to your car caused by something other than a collision such as theft, fire, vandalism, windstorm or hitting an animal. What about damage to your car?If you’re in an accident, Collision or Comprehensive Coverage can help pay for the repair or replacement of your car.', 'content_type': 'text', 'score': None, 'meta': {'name': 'policy.txt', '_split_id': 39}, 'embedding': None, 'id': '21b12a80855f1dc5195b22d187fcba17'}>, <Document: {'content': 'What about damage to your car?If you’re in an accident, Collision or Comprehensive Coverage can help pay for the repair or replacement of your car. Towing and Labor Costs reimburses you for towing and basic roadside-assistance expenses if you’re stranded on the road.', 'content_type': 'text', 'score': None, 'meta': {'name': 'policy.txt', '_split_id': 40}, 'embedding': None, 'id': '841333440bd29370b2fabf4d6e71b91'}>, <Document: {'content': 'Towing and Labor Costs reimburses you for towing and basic roadside-assistance expenses if you’re stranded on the road. Rental Reimbursement repays you for the cost of renting a car while yours is in the shop being repaired due to a covered accident—up to 30 days.', 'content_type': 'text', 'score': None, 'meta': {'name': 'policy.txt', '_split_id': 41}, 'embedding': None, 'id': '6c562c9375d91e20b8e9c73b9b6b42b2'}>, <Document: {'content': 'Rental Reimbursement repays you for the cost of renting a car while yours is in the shop being repaired due to a covered accident—up to 30 days. Sound System Coverage protects your investment from theft or damage if you’ve installed a high-end sound system in your car.', 'content_type': 'text', 'score': None, 'meta': {'name': 'policy.txt', '_split_id': 42}, 'embedding': None, 'id': '2d1e6fde95829808b5d0e810d8b8c2e5'}>, <Document: {'content': 'Sound System Coverage protects your investment from theft or damage if you’ve installed a high-end sound system in your car. Call your Allstate Agent or 1-800-ALLSTATE to see if your system qualifies.There are other coverages you can buy to protect your car.', 'content_type': 'text', 'score': None, 'meta': {'name': 'policy.txt', '_split_id': 43}, 'embedding': None, 'id': '9387dcfeea41e75301d1778819c05434'}>, <Document: {'content': 'Call your Allstate Agent or 1-800-ALLSTATE to see if your system qualifies.There are other coverages you can buy to protect your car. Allstate offers other coverages for additional protection for you and your car.', 'content_type': 'text', 'score': None, 'meta': {'name': 'policy.txt', '_split_id': 44}, 'embedding': None, 'id': '309d6145f9b096665f2ff83add2c68b'}>, <Document: {'content': 'Allstate offers other coverages for additional protection for you and your car. If you have selected these coverages, they will appear under “Coverage” on your Allstate Policy Declarations.', 'content_type': 'text', 'score': None, 'meta': {'name': 'policy.txt', '_split_id': 45}, 'embedding': None, 'id': '75d290c60b61a9b560e124dfe091bd52'}>, <Document: {'content': 'If you have selected these coverages, they will appear under “Coverage” on your Allstate Policy Declarations. If you’re stranded on the road,Towing and Labor Costs can help reimburse you for towing and other basic roadside-assistance expenses.', 'content_type': 'text', 'score': None, 'meta': {'name': 'policy.txt', '_split_id': 46}, 'embedding': None, 'id': 'dd27c7ea5e1d60c5cf3179287c8a0657'}>, <Document: {'content': 'If you’re stranded on the road,Towing and Labor Costs can help reimburse you for towing and other basic roadside-assistance expenses. About deductibles.A deductible is the amount of money you agree to pay to help repair or replace your car if you have a claim covered by your policy.', 'content_type': 'text', 'score': None, 'meta': {'name': 'policy.txt', '_split_id': 47}, 'embedding': None, 'id': 'a32879a19bf58a7886007d38f0a33d81'}>, <Document: {'content': 'About deductibles.A deductible is the amount of money you agree to pay to help repair or replace your car if you have a claim covered by your policy. Deductibles.Choosing a higher deductible means you might pay less for your insurance premium now, but you should be prepared to pay more out of your own pocket later if you have an accident.', 'content_type': 'text', 'score': None, 'meta': {'name': 'policy.txt', '_split_id': 48}, 'embedding': None, 'id': '80e3202c424a200d7d5162973ada69d2'}>, <Document: {'content': 'Deductibles.Choosing a higher deductible means you might pay less for your insurance premium now, but you should be prepared to pay more out of your own pocket later if you have an accident. About coverage limits.Each coverage has a limit.', 'content_type': 'text', 'score': None, 'meta': {'name': 'policy.txt', '_split_id': 49}, 'embedding': None, 'id': 'f7f7a4ec24bce7475d5d88c47c530d61'}>]\n"
     ]
    }
   ],
   "source": [
    "print(docs[:50])"
   ]
  },
  {
   "cell_type": "code",
   "execution_count": 13,
   "id": "b78e000b",
   "metadata": {},
   "outputs": [],
   "source": [
    "from haystack.nodes import DensePassageRetriever"
   ]
  },
  {
   "cell_type": "code",
   "execution_count": 14,
   "id": "f9afaa8d",
   "metadata": {},
   "outputs": [
    {
     "name": "stderr",
     "output_type": "stream",
     "text": [
      "INFO - haystack.modeling.utils -  Using devices: CPU\n",
      "INFO - haystack.modeling.utils -  Number of GPUs: 0\n",
      "INFO - haystack.modeling.model.language_model -  LOADING MODEL\n",
      "INFO - haystack.modeling.model.language_model -  =============\n",
      "INFO - haystack.modeling.model.language_model -  Could not find facebook/dpr-question_encoder-single-nq-base locally.\n",
      "INFO - haystack.modeling.model.language_model -  Looking on Transformers Model Hub (in local cache and online)...\n",
      "INFO - haystack.modeling.model.language_model -  Loaded facebook/dpr-question_encoder-single-nq-base\n",
      "The tokenizer class you load from this checkpoint is not the same type as the class this function is called from. It may result in unexpected tokenization. \n",
      "The tokenizer class you load from this checkpoint is 'DPRQuestionEncoderTokenizer'. \n",
      "The class this function is called from is 'DPRContextEncoderTokenizerFast'.\n",
      "INFO - haystack.modeling.model.language_model -  LOADING MODEL\n",
      "INFO - haystack.modeling.model.language_model -  =============\n",
      "INFO - haystack.modeling.model.language_model -  Could not find facebook/dpr-ctx_encoder-single-nq-base locally.\n",
      "INFO - haystack.modeling.model.language_model -  Looking on Transformers Model Hub (in local cache and online)...\n",
      "INFO - haystack.modeling.model.language_model -  Loaded facebook/dpr-ctx_encoder-single-nq-base\n"
     ]
    }
   ],
   "source": [
    "retriever = DensePassageRetriever(\n",
    "    document_store=document_store,\n",
    "    query_embedding_model=\"facebook/dpr-question_encoder-single-nq-base\",\n",
    "    passage_embedding_model=\"facebook/dpr-ctx_encoder-single-nq-base\",\n",
    "    max_seq_len_query=64,\n",
    "    max_seq_len_passage=256,\n",
    "    batch_size=16,\n",
    "    use_gpu=True,\n",
    "    embed_title=True,\n",
    "    use_fast_tokenizers=True,\n",
    ")"
   ]
  },
  {
   "cell_type": "code",
   "execution_count": 15,
   "id": "1f2bf2b4",
   "metadata": {},
   "outputs": [
    {
     "name": "stderr",
     "output_type": "stream",
     "text": [
      "d:\\exl-chatbot\\env\\lib\\site-packages\\urllib3\\connectionpool.py:1043: InsecureRequestWarning: Unverified HTTPS request is being made to host 'search-auto-insurance-nbdvjfxbsyudd5yhpq3e4ic6bu.ap-south-1.es.amazonaws.com'. Adding certificate verification is strongly advised. See: https://urllib3.readthedocs.io/en/1.26.x/advanced-usage.html#ssl-warnings\n",
      "  warnings.warn(\n",
      "INFO - haystack.document_stores.elasticsearch -  Updating embeddings for all 90 docs ...\n"
     ]
    },
    {
     "data": {
      "application/vnd.jupyter.widget-view+json": {
       "model_id": "4ca71f54cabd4417b4f561d55d6cdedc",
       "version_major": 2,
       "version_minor": 0
      },
      "text/plain": [
       "Updating embeddings:   0%|          | 0/90 [00:00<?, ? Docs/s]"
      ]
     },
     "metadata": {},
     "output_type": "display_data"
    },
    {
     "name": "stderr",
     "output_type": "stream",
     "text": [
      "d:\\exl-chatbot\\env\\lib\\site-packages\\urllib3\\connectionpool.py:1043: InsecureRequestWarning: Unverified HTTPS request is being made to host 'search-auto-insurance-nbdvjfxbsyudd5yhpq3e4ic6bu.ap-south-1.es.amazonaws.com'. Adding certificate verification is strongly advised. See: https://urllib3.readthedocs.io/en/1.26.x/advanced-usage.html#ssl-warnings\n",
      "  warnings.warn(\n",
      "d:\\exl-chatbot\\env\\lib\\site-packages\\urllib3\\connectionpool.py:1043: InsecureRequestWarning: Unverified HTTPS request is being made to host 'search-auto-insurance-nbdvjfxbsyudd5yhpq3e4ic6bu.ap-south-1.es.amazonaws.com'. Adding certificate verification is strongly advised. See: https://urllib3.readthedocs.io/en/1.26.x/advanced-usage.html#ssl-warnings\n",
      "  warnings.warn(\n",
      "d:\\exl-chatbot\\env\\lib\\site-packages\\urllib3\\connectionpool.py:1043: InsecureRequestWarning: Unverified HTTPS request is being made to host 'search-auto-insurance-nbdvjfxbsyudd5yhpq3e4ic6bu.ap-south-1.es.amazonaws.com'. Adding certificate verification is strongly advised. See: https://urllib3.readthedocs.io/en/1.26.x/advanced-usage.html#ssl-warnings\n",
      "  warnings.warn(\n"
     ]
    },
    {
     "data": {
      "application/vnd.jupyter.widget-view+json": {
       "model_id": "",
       "version_major": 2,
       "version_minor": 0
      },
      "text/plain": [
       "Create embeddings:   0%|          | 0/96 [00:00<?, ? Docs/s]"
      ]
     },
     "metadata": {},
     "output_type": "display_data"
    },
    {
     "name": "stderr",
     "output_type": "stream",
     "text": [
      "d:\\exl-chatbot\\env\\lib\\site-packages\\urllib3\\connectionpool.py:1043: InsecureRequestWarning: Unverified HTTPS request is being made to host 'search-auto-insurance-nbdvjfxbsyudd5yhpq3e4ic6bu.ap-south-1.es.amazonaws.com'. Adding certificate verification is strongly advised. See: https://urllib3.readthedocs.io/en/1.26.x/advanced-usage.html#ssl-warnings\n",
      "  warnings.warn(\n"
     ]
    }
   ],
   "source": [
    "document_store.update_embeddings(retriever)"
   ]
  },
  {
   "cell_type": "code",
   "execution_count": null,
   "id": "3cb5e622",
   "metadata": {},
   "outputs": [],
   "source": []
  },
  {
   "cell_type": "code",
   "execution_count": null,
   "id": "dc41f205",
   "metadata": {},
   "outputs": [],
   "source": []
  },
  {
   "cell_type": "code",
   "execution_count": null,
   "id": "fa7cfcdb",
   "metadata": {},
   "outputs": [],
   "source": []
  }
 ],
 "metadata": {
  "kernelspec": {
   "display_name": "Python 3 (ipykernel)",
   "language": "python",
   "name": "python3"
  },
  "language_info": {
   "codemirror_mode": {
    "name": "ipython",
    "version": 3
   },
   "file_extension": ".py",
   "mimetype": "text/x-python",
   "name": "python",
   "nbconvert_exporter": "python",
   "pygments_lexer": "ipython3",
   "version": "3.9.5"
  }
 },
 "nbformat": 4,
 "nbformat_minor": 5
}
