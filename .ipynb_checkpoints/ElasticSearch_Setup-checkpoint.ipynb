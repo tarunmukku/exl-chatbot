{
 "cells": [
  {
   "cell_type": "code",
   "execution_count": 2,
   "id": "285d9cdd",
   "metadata": {},
   "outputs": [],
   "source": [
    "import requests"
   ]
  },
  {
   "cell_type": "code",
   "execution_count": 3,
   "id": "10e609fa",
   "metadata": {},
   "outputs": [],
   "source": [
    "from haystack.nodes import PDFToTextConverter,PreProcessor\n",
    "from haystack.utils import convert_files_to_docs,clean_wiki_text"
   ]
  },
  {
   "cell_type": "code",
   "execution_count": 4,
   "id": "ff46b585",
   "metadata": {},
   "outputs": [
    {
     "ename": "JSONDecodeError",
     "evalue": "Expecting value: line 1 column 1 (char 0)",
     "output_type": "error",
     "traceback": [
      "\u001b[1;31m---------------------------------------------------------------------------\u001b[0m",
      "\u001b[1;31mJSONDecodeError\u001b[0m                           Traceback (most recent call last)",
      "File \u001b[1;32md:\\exl-chatbot\\env\\lib\\site-packages\\requests\\models.py:971\u001b[0m, in \u001b[0;36mResponse.json\u001b[1;34m(self, **kwargs)\u001b[0m\n\u001b[0;32m    970\u001b[0m \u001b[38;5;28;01mtry\u001b[39;00m:\n\u001b[1;32m--> 971\u001b[0m     \u001b[38;5;28;01mreturn\u001b[39;00m complexjson\u001b[38;5;241m.\u001b[39mloads(\u001b[38;5;28mself\u001b[39m\u001b[38;5;241m.\u001b[39mtext, \u001b[38;5;241m*\u001b[39m\u001b[38;5;241m*\u001b[39mkwargs)\n\u001b[0;32m    972\u001b[0m \u001b[38;5;28;01mexcept\u001b[39;00m JSONDecodeError \u001b[38;5;28;01mas\u001b[39;00m e:\n\u001b[0;32m    973\u001b[0m     \u001b[38;5;66;03m# Catch JSON-related errors and raise as requests.JSONDecodeError\u001b[39;00m\n\u001b[0;32m    974\u001b[0m     \u001b[38;5;66;03m# This aliases json.JSONDecodeError and simplejson.JSONDecodeError\u001b[39;00m\n",
      "File \u001b[1;32mC:\\users\\tarun\\appdata\\local\\programs\\python\\python39\\lib\\json\\__init__.py:346\u001b[0m, in \u001b[0;36mloads\u001b[1;34m(s, cls, object_hook, parse_float, parse_int, parse_constant, object_pairs_hook, **kw)\u001b[0m\n\u001b[0;32m    343\u001b[0m \u001b[38;5;28;01mif\u001b[39;00m (\u001b[38;5;28mcls\u001b[39m \u001b[38;5;129;01mis\u001b[39;00m \u001b[38;5;28;01mNone\u001b[39;00m \u001b[38;5;129;01mand\u001b[39;00m object_hook \u001b[38;5;129;01mis\u001b[39;00m \u001b[38;5;28;01mNone\u001b[39;00m \u001b[38;5;129;01mand\u001b[39;00m\n\u001b[0;32m    344\u001b[0m         parse_int \u001b[38;5;129;01mis\u001b[39;00m \u001b[38;5;28;01mNone\u001b[39;00m \u001b[38;5;129;01mand\u001b[39;00m parse_float \u001b[38;5;129;01mis\u001b[39;00m \u001b[38;5;28;01mNone\u001b[39;00m \u001b[38;5;129;01mand\u001b[39;00m\n\u001b[0;32m    345\u001b[0m         parse_constant \u001b[38;5;129;01mis\u001b[39;00m \u001b[38;5;28;01mNone\u001b[39;00m \u001b[38;5;129;01mand\u001b[39;00m object_pairs_hook \u001b[38;5;129;01mis\u001b[39;00m \u001b[38;5;28;01mNone\u001b[39;00m \u001b[38;5;129;01mand\u001b[39;00m \u001b[38;5;129;01mnot\u001b[39;00m kw):\n\u001b[1;32m--> 346\u001b[0m     \u001b[38;5;28;01mreturn\u001b[39;00m \u001b[43m_default_decoder\u001b[49m\u001b[38;5;241;43m.\u001b[39;49m\u001b[43mdecode\u001b[49m\u001b[43m(\u001b[49m\u001b[43ms\u001b[49m\u001b[43m)\u001b[49m\n\u001b[0;32m    347\u001b[0m \u001b[38;5;28;01mif\u001b[39;00m \u001b[38;5;28mcls\u001b[39m \u001b[38;5;129;01mis\u001b[39;00m \u001b[38;5;28;01mNone\u001b[39;00m:\n",
      "File \u001b[1;32mC:\\users\\tarun\\appdata\\local\\programs\\python\\python39\\lib\\json\\decoder.py:337\u001b[0m, in \u001b[0;36mJSONDecoder.decode\u001b[1;34m(self, s, _w)\u001b[0m\n\u001b[0;32m    333\u001b[0m \u001b[38;5;124;03m\"\"\"Return the Python representation of ``s`` (a ``str`` instance\u001b[39;00m\n\u001b[0;32m    334\u001b[0m \u001b[38;5;124;03mcontaining a JSON document).\u001b[39;00m\n\u001b[0;32m    335\u001b[0m \n\u001b[0;32m    336\u001b[0m \u001b[38;5;124;03m\"\"\"\u001b[39;00m\n\u001b[1;32m--> 337\u001b[0m obj, end \u001b[38;5;241m=\u001b[39m \u001b[38;5;28;43mself\u001b[39;49m\u001b[38;5;241;43m.\u001b[39;49m\u001b[43mraw_decode\u001b[49m\u001b[43m(\u001b[49m\u001b[43ms\u001b[49m\u001b[43m,\u001b[49m\u001b[43m \u001b[49m\u001b[43midx\u001b[49m\u001b[38;5;241;43m=\u001b[39;49m\u001b[43m_w\u001b[49m\u001b[43m(\u001b[49m\u001b[43ms\u001b[49m\u001b[43m,\u001b[49m\u001b[43m \u001b[49m\u001b[38;5;241;43m0\u001b[39;49m\u001b[43m)\u001b[49m\u001b[38;5;241;43m.\u001b[39;49m\u001b[43mend\u001b[49m\u001b[43m(\u001b[49m\u001b[43m)\u001b[49m\u001b[43m)\u001b[49m\n\u001b[0;32m    338\u001b[0m end \u001b[38;5;241m=\u001b[39m _w(s, end)\u001b[38;5;241m.\u001b[39mend()\n",
      "File \u001b[1;32mC:\\users\\tarun\\appdata\\local\\programs\\python\\python39\\lib\\json\\decoder.py:355\u001b[0m, in \u001b[0;36mJSONDecoder.raw_decode\u001b[1;34m(self, s, idx)\u001b[0m\n\u001b[0;32m    354\u001b[0m \u001b[38;5;28;01mexcept\u001b[39;00m \u001b[38;5;167;01mStopIteration\u001b[39;00m \u001b[38;5;28;01mas\u001b[39;00m err:\n\u001b[1;32m--> 355\u001b[0m     \u001b[38;5;28;01mraise\u001b[39;00m JSONDecodeError(\u001b[38;5;124m\"\u001b[39m\u001b[38;5;124mExpecting value\u001b[39m\u001b[38;5;124m\"\u001b[39m, s, err\u001b[38;5;241m.\u001b[39mvalue) \u001b[38;5;28;01mfrom\u001b[39;00m \u001b[38;5;28mNone\u001b[39m\n\u001b[0;32m    356\u001b[0m \u001b[38;5;28;01mreturn\u001b[39;00m obj, end\n",
      "\u001b[1;31mJSONDecodeError\u001b[0m: Expecting value: line 1 column 1 (char 0)",
      "\nDuring handling of the above exception, another exception occurred:\n",
      "\u001b[1;31mJSONDecodeError\u001b[0m                           Traceback (most recent call last)",
      "Input \u001b[1;32mIn [4]\u001b[0m, in \u001b[0;36m<cell line: 1>\u001b[1;34m()\u001b[0m\n\u001b[1;32m----> 1\u001b[0m \u001b[43mrequests\u001b[49m\u001b[38;5;241;43m.\u001b[39;49m\u001b[43mget\u001b[49m\u001b[43m(\u001b[49m\u001b[38;5;124;43m'\u001b[39;49m\u001b[38;5;124;43mhttps://search-exl-hackathon-uejbkrkz2d6b2gddzbcigeyamu.ap-south-1.es.amazonaws.com//_cluster/health\u001b[39;49m\u001b[38;5;124;43m'\u001b[39;49m\u001b[43m)\u001b[49m\u001b[38;5;241;43m.\u001b[39;49m\u001b[43mjson\u001b[49m\u001b[43m(\u001b[49m\u001b[43m)\u001b[49m\n",
      "File \u001b[1;32md:\\exl-chatbot\\env\\lib\\site-packages\\requests\\models.py:975\u001b[0m, in \u001b[0;36mResponse.json\u001b[1;34m(self, **kwargs)\u001b[0m\n\u001b[0;32m    971\u001b[0m     \u001b[38;5;28;01mreturn\u001b[39;00m complexjson\u001b[38;5;241m.\u001b[39mloads(\u001b[38;5;28mself\u001b[39m\u001b[38;5;241m.\u001b[39mtext, \u001b[38;5;241m*\u001b[39m\u001b[38;5;241m*\u001b[39mkwargs)\n\u001b[0;32m    972\u001b[0m \u001b[38;5;28;01mexcept\u001b[39;00m JSONDecodeError \u001b[38;5;28;01mas\u001b[39;00m e:\n\u001b[0;32m    973\u001b[0m     \u001b[38;5;66;03m# Catch JSON-related errors and raise as requests.JSONDecodeError\u001b[39;00m\n\u001b[0;32m    974\u001b[0m     \u001b[38;5;66;03m# This aliases json.JSONDecodeError and simplejson.JSONDecodeError\u001b[39;00m\n\u001b[1;32m--> 975\u001b[0m     \u001b[38;5;28;01mraise\u001b[39;00m RequestsJSONDecodeError(e\u001b[38;5;241m.\u001b[39mmsg, e\u001b[38;5;241m.\u001b[39mdoc, e\u001b[38;5;241m.\u001b[39mpos)\n",
      "\u001b[1;31mJSONDecodeError\u001b[0m: Expecting value: line 1 column 1 (char 0)"
     ]
    }
   ],
   "source": [
    "requests.get('https://search-exl-hackathon-uejbkrkz2d6b2gddzbcigeyamu.ap-south-1.es.amazonaws.com/_cluster/health').json()"
   ]
  },
  {
   "cell_type": "code",
   "execution_count": null,
   "id": "8dedfb60",
   "metadata": {},
   "outputs": [],
   "source": []
  },
  {
   "cell_type": "code",
   "execution_count": 5,
   "id": "dc86b847",
   "metadata": {},
   "outputs": [],
   "source": [
    "from haystack.document_stores import ElasticsearchDocumentStore"
   ]
  },
  {
   "cell_type": "code",
   "execution_count": null,
   "id": "d57eeb4f",
   "metadata": {},
   "outputs": [
    {
     "name": "stderr",
     "output_type": "stream",
     "text": [
      "WARNING - elasticsearch -  HEAD http://localhost:9200/_alias/auto_insurance [status:N/A request:4.057s]\n",
      "Traceback (most recent call last):\n",
      "  File \"d:\\exl-chatbot\\env\\lib\\site-packages\\urllib3\\connection.py\", line 174, in _new_conn\n",
      "    conn = connection.create_connection(\n",
      "  File \"d:\\exl-chatbot\\env\\lib\\site-packages\\urllib3\\util\\connection.py\", line 95, in create_connection\n",
      "    raise err\n",
      "  File \"d:\\exl-chatbot\\env\\lib\\site-packages\\urllib3\\util\\connection.py\", line 85, in create_connection\n",
      "    sock.connect(sa)\n",
      "ConnectionRefusedError: [WinError 10061] No connection could be made because the target machine actively refused it\n",
      "\n",
      "During handling of the above exception, another exception occurred:\n",
      "\n",
      "Traceback (most recent call last):\n",
      "  File \"d:\\exl-chatbot\\env\\lib\\site-packages\\elasticsearch\\connection\\http_urllib3.py\", line 245, in perform_request\n",
      "    response = self.pool.urlopen(\n",
      "  File \"d:\\exl-chatbot\\env\\lib\\site-packages\\urllib3\\connectionpool.py\", line 785, in urlopen\n",
      "    retries = retries.increment(\n",
      "  File \"d:\\exl-chatbot\\env\\lib\\site-packages\\urllib3\\util\\retry.py\", line 525, in increment\n",
      "    raise six.reraise(type(error), error, _stacktrace)\n",
      "  File \"d:\\exl-chatbot\\env\\lib\\site-packages\\urllib3\\packages\\six.py\", line 770, in reraise\n",
      "    raise value\n",
      "  File \"d:\\exl-chatbot\\env\\lib\\site-packages\\urllib3\\connectionpool.py\", line 703, in urlopen\n",
      "    httplib_response = self._make_request(\n",
      "  File \"d:\\exl-chatbot\\env\\lib\\site-packages\\urllib3\\connectionpool.py\", line 398, in _make_request\n",
      "    conn.request(method, url, **httplib_request_kw)\n",
      "  File \"d:\\exl-chatbot\\env\\lib\\site-packages\\urllib3\\connection.py\", line 239, in request\n",
      "    super(HTTPConnection, self).request(method, url, body=body, headers=headers)\n",
      "  File \"C:\\users\\tarun\\appdata\\local\\programs\\python\\python39\\lib\\http\\client.py\", line 1253, in request\n",
      "    self._send_request(method, url, body, headers, encode_chunked)\n",
      "  File \"C:\\users\\tarun\\appdata\\local\\programs\\python\\python39\\lib\\http\\client.py\", line 1299, in _send_request\n",
      "    self.endheaders(body, encode_chunked=encode_chunked)\n",
      "  File \"C:\\users\\tarun\\appdata\\local\\programs\\python\\python39\\lib\\http\\client.py\", line 1248, in endheaders\n",
      "    self._send_output(message_body, encode_chunked=encode_chunked)\n",
      "  File \"C:\\users\\tarun\\appdata\\local\\programs\\python\\python39\\lib\\http\\client.py\", line 1008, in _send_output\n",
      "    self.send(msg)\n",
      "  File \"C:\\users\\tarun\\appdata\\local\\programs\\python\\python39\\lib\\http\\client.py\", line 948, in send\n",
      "    self.connect()\n",
      "  File \"d:\\exl-chatbot\\env\\lib\\site-packages\\urllib3\\connection.py\", line 205, in connect\n",
      "    conn = self._new_conn()\n",
      "  File \"d:\\exl-chatbot\\env\\lib\\site-packages\\urllib3\\connection.py\", line 186, in _new_conn\n",
      "    raise NewConnectionError(\n",
      "urllib3.exceptions.NewConnectionError: <urllib3.connection.HTTPConnection object at 0x000001FB126D97F0>: Failed to establish a new connection: [WinError 10061] No connection could be made because the target machine actively refused it\n",
      "WARNING - elasticsearch -  HEAD http://localhost:9200/_alias/auto_insurance [status:N/A request:4.052s]\n",
      "Traceback (most recent call last):\n",
      "  File \"d:\\exl-chatbot\\env\\lib\\site-packages\\urllib3\\connection.py\", line 174, in _new_conn\n",
      "    conn = connection.create_connection(\n",
      "  File \"d:\\exl-chatbot\\env\\lib\\site-packages\\urllib3\\util\\connection.py\", line 95, in create_connection\n",
      "    raise err\n",
      "  File \"d:\\exl-chatbot\\env\\lib\\site-packages\\urllib3\\util\\connection.py\", line 85, in create_connection\n",
      "    sock.connect(sa)\n",
      "ConnectionRefusedError: [WinError 10061] No connection could be made because the target machine actively refused it\n",
      "\n",
      "During handling of the above exception, another exception occurred:\n",
      "\n",
      "Traceback (most recent call last):\n",
      "  File \"d:\\exl-chatbot\\env\\lib\\site-packages\\elasticsearch\\connection\\http_urllib3.py\", line 245, in perform_request\n",
      "    response = self.pool.urlopen(\n",
      "  File \"d:\\exl-chatbot\\env\\lib\\site-packages\\urllib3\\connectionpool.py\", line 785, in urlopen\n",
      "    retries = retries.increment(\n",
      "  File \"d:\\exl-chatbot\\env\\lib\\site-packages\\urllib3\\util\\retry.py\", line 525, in increment\n",
      "    raise six.reraise(type(error), error, _stacktrace)\n",
      "  File \"d:\\exl-chatbot\\env\\lib\\site-packages\\urllib3\\packages\\six.py\", line 770, in reraise\n",
      "    raise value\n",
      "  File \"d:\\exl-chatbot\\env\\lib\\site-packages\\urllib3\\connectionpool.py\", line 703, in urlopen\n",
      "    httplib_response = self._make_request(\n",
      "  File \"d:\\exl-chatbot\\env\\lib\\site-packages\\urllib3\\connectionpool.py\", line 398, in _make_request\n",
      "    conn.request(method, url, **httplib_request_kw)\n",
      "  File \"d:\\exl-chatbot\\env\\lib\\site-packages\\urllib3\\connection.py\", line 239, in request\n",
      "    super(HTTPConnection, self).request(method, url, body=body, headers=headers)\n",
      "  File \"C:\\users\\tarun\\appdata\\local\\programs\\python\\python39\\lib\\http\\client.py\", line 1253, in request\n",
      "    self._send_request(method, url, body, headers, encode_chunked)\n",
      "  File \"C:\\users\\tarun\\appdata\\local\\programs\\python\\python39\\lib\\http\\client.py\", line 1299, in _send_request\n",
      "    self.endheaders(body, encode_chunked=encode_chunked)\n",
      "  File \"C:\\users\\tarun\\appdata\\local\\programs\\python\\python39\\lib\\http\\client.py\", line 1248, in endheaders\n",
      "    self._send_output(message_body, encode_chunked=encode_chunked)\n",
      "  File \"C:\\users\\tarun\\appdata\\local\\programs\\python\\python39\\lib\\http\\client.py\", line 1008, in _send_output\n",
      "    self.send(msg)\n",
      "  File \"C:\\users\\tarun\\appdata\\local\\programs\\python\\python39\\lib\\http\\client.py\", line 948, in send\n",
      "    self.connect()\n",
      "  File \"d:\\exl-chatbot\\env\\lib\\site-packages\\urllib3\\connection.py\", line 205, in connect\n",
      "    conn = self._new_conn()\n",
      "  File \"d:\\exl-chatbot\\env\\lib\\site-packages\\urllib3\\connection.py\", line 186, in _new_conn\n",
      "    raise NewConnectionError(\n",
      "urllib3.exceptions.NewConnectionError: <urllib3.connection.HTTPConnection object at 0x000001FB126D9C10>: Failed to establish a new connection: [WinError 10061] No connection could be made because the target machine actively refused it\n",
      "WARNING - elasticsearch -  HEAD http://localhost:9200/_alias/auto_insurance [status:N/A request:4.055s]\n",
      "Traceback (most recent call last):\n",
      "  File \"d:\\exl-chatbot\\env\\lib\\site-packages\\urllib3\\connection.py\", line 174, in _new_conn\n",
      "    conn = connection.create_connection(\n",
      "  File \"d:\\exl-chatbot\\env\\lib\\site-packages\\urllib3\\util\\connection.py\", line 95, in create_connection\n",
      "    raise err\n",
      "  File \"d:\\exl-chatbot\\env\\lib\\site-packages\\urllib3\\util\\connection.py\", line 85, in create_connection\n",
      "    sock.connect(sa)\n",
      "ConnectionRefusedError: [WinError 10061] No connection could be made because the target machine actively refused it\n",
      "\n",
      "During handling of the above exception, another exception occurred:\n",
      "\n",
      "Traceback (most recent call last):\n",
      "  File \"d:\\exl-chatbot\\env\\lib\\site-packages\\elasticsearch\\connection\\http_urllib3.py\", line 245, in perform_request\n",
      "    response = self.pool.urlopen(\n",
      "  File \"d:\\exl-chatbot\\env\\lib\\site-packages\\urllib3\\connectionpool.py\", line 785, in urlopen\n",
      "    retries = retries.increment(\n",
      "  File \"d:\\exl-chatbot\\env\\lib\\site-packages\\urllib3\\util\\retry.py\", line 525, in increment\n",
      "    raise six.reraise(type(error), error, _stacktrace)\n",
      "  File \"d:\\exl-chatbot\\env\\lib\\site-packages\\urllib3\\packages\\six.py\", line 770, in reraise\n",
      "    raise value\n",
      "  File \"d:\\exl-chatbot\\env\\lib\\site-packages\\urllib3\\connectionpool.py\", line 703, in urlopen\n",
      "    httplib_response = self._make_request(\n",
      "  File \"d:\\exl-chatbot\\env\\lib\\site-packages\\urllib3\\connectionpool.py\", line 398, in _make_request\n",
      "    conn.request(method, url, **httplib_request_kw)\n",
      "  File \"d:\\exl-chatbot\\env\\lib\\site-packages\\urllib3\\connection.py\", line 239, in request\n",
      "    super(HTTPConnection, self).request(method, url, body=body, headers=headers)\n",
      "  File \"C:\\users\\tarun\\appdata\\local\\programs\\python\\python39\\lib\\http\\client.py\", line 1253, in request\n",
      "    self._send_request(method, url, body, headers, encode_chunked)\n",
      "  File \"C:\\users\\tarun\\appdata\\local\\programs\\python\\python39\\lib\\http\\client.py\", line 1299, in _send_request\n",
      "    self.endheaders(body, encode_chunked=encode_chunked)\n",
      "  File \"C:\\users\\tarun\\appdata\\local\\programs\\python\\python39\\lib\\http\\client.py\", line 1248, in endheaders\n",
      "    self._send_output(message_body, encode_chunked=encode_chunked)\n",
      "  File \"C:\\users\\tarun\\appdata\\local\\programs\\python\\python39\\lib\\http\\client.py\", line 1008, in _send_output\n",
      "    self.send(msg)\n",
      "  File \"C:\\users\\tarun\\appdata\\local\\programs\\python\\python39\\lib\\http\\client.py\", line 948, in send\n",
      "    self.connect()\n",
      "  File \"d:\\exl-chatbot\\env\\lib\\site-packages\\urllib3\\connection.py\", line 205, in connect\n",
      "    conn = self._new_conn()\n",
      "  File \"d:\\exl-chatbot\\env\\lib\\site-packages\\urllib3\\connection.py\", line 186, in _new_conn\n",
      "    raise NewConnectionError(\n",
      "urllib3.exceptions.NewConnectionError: <urllib3.connection.HTTPConnection object at 0x000001FB126D9BB0>: Failed to establish a new connection: [WinError 10061] No connection could be made because the target machine actively refused it\n"
     ]
    }
   ],
   "source": [
    "    # Connect to Elasticsearch\n",
    "document_store = ElasticsearchDocumentStore(host=\"localhost\", username=\"tarunm\", password=\"May#2022password\", index=\"auto_insurance\")"
   ]
  },
  {
   "cell_type": "code",
   "execution_count": 178,
   "id": "20677554",
   "metadata": {},
   "outputs": [],
   "source": [
    "from haystack.nodes import TextConverter,PreProcessor"
   ]
  },
  {
   "cell_type": "code",
   "execution_count": 179,
   "id": "01c1d1d2",
   "metadata": {},
   "outputs": [
    {
     "name": "stderr",
     "output_type": "stream",
     "text": [
      "INFO - haystack.utils.preprocessing -  Converting output\\Policy Doc_Allstate.txt\n",
      "\n",
      "  0%|                                                                                          | 0/1 [00:00<?, ?docs/s]\u001b[AWARNING - haystack.nodes.preprocessor.preprocessor -  One or more sentence found with word count higher than the split length.\n",
      "100%|██████████████████████████████████████████████████████████████████████████████████| 1/1 [00:00<00:00, 34.44docs/s]"
     ]
    },
    {
     "name": "stdout",
     "output_type": "stream",
     "text": [
      "n_files_input: 1\n",
      "n_docs_output: 492\n"
     ]
    },
    {
     "name": "stderr",
     "output_type": "stream",
     "text": [
      "\n"
     ]
    }
   ],
   "source": [
    "all_docs = convert_files_to_docs(dir_path='output', split_paragraphs=False)\n",
    "preprocessor = PreProcessor(\n",
    "    clean_empty_lines=True,\n",
    "    clean_whitespace=True,\n",
    "    clean_header_footer=True,\n",
    "    split_by=\"word\",\n",
    "    split_length=10,\n",
    "    split_respect_sentence_boundary=True,\n",
    ")\n",
    "docs = preprocessor.process(all_docs)\n",
    "\n",
    "print(f\"n_files_input: {len(all_docs)}\\nn_docs_output: {len(docs)}\")"
   ]
  },
  {
   "cell_type": "code",
   "execution_count": 180,
   "id": "c147375a",
   "metadata": {},
   "outputs": [],
   "source": [
    "document_store.write_documents(docs)"
   ]
  },
  {
   "cell_type": "code",
   "execution_count": 181,
   "id": "9aae8edb",
   "metadata": {},
   "outputs": [
    {
     "data": {
      "text/plain": [
       "{'count': 408,\n",
       " '_shards': {'total': 1, 'successful': 1, 'skipped': 0, 'failed': 0}}"
      ]
     },
     "execution_count": 181,
     "metadata": {},
     "output_type": "execute_result"
    }
   ],
   "source": [
    "requests.get(\"http://localhost:9200/auto_insurance/_count\").json()"
   ]
  },
  {
   "cell_type": "code",
   "execution_count": 182,
   "id": "1ba02554",
   "metadata": {},
   "outputs": [
    {
     "name": "stdout",
     "output_type": "stream",
     "text": [
      "[<Document: {'content': '\\nThis policy is a legal contract between you and us.', 'content_type': 'text', 'score': None, 'meta': {'name': 'Policy Doc_Allstate.txt', '_split_id': 0}, 'embedding': None, 'id': 'd039922085e9f523bc92c70b63ac4065'}>, <Document: {'content': 'A coverage applies only when a premium for it is shown on the Policy Declarations.', 'content_type': 'text', 'score': None, 'meta': {'name': 'Policy Doc_Allstate.txt', '_split_id': 1}, 'embedding': None, 'id': '97a82a80ee6fb7ad82eac11f249bf355'}>, <Document: {'content': 'If more than one auto is insured, premiums will be shown for each auto.', 'content_type': 'text', 'score': None, 'meta': {'name': 'Policy Doc_Allstate.txt', '_split_id': 2}, 'embedding': None, 'id': '8cd7eb0ce273d797707f914f1be1798e'}>, <Document: {'content': 'If you pay the premiums when due and comply with the policy terms, Allstate, relying on the information you have given us, makes the following agreements with you.', 'content_type': 'text', 'score': None, 'meta': {'name': 'Policy Doc_Allstate.txt', '_split_id': 3}, 'embedding': None, 'id': '1241ddeb7d4c689ddc1cd8491f3509b'}>, <Document: {'content': 'Your policy applies only during the policy period.', 'content_type': 'text', 'score': None, 'meta': {'name': 'Policy Doc_Allstate.txt', '_split_id': 4}, 'embedding': None, 'id': '6c1b1f24a059b66db1ee4d756c2887'}>, <Document: {'content': 'During this time, it applies to losses to the auto, accidents and occurrences within the United States of America, its territories or possessions or Canada, or between their ports.', 'content_type': 'text', 'score': None, 'meta': {'name': 'Policy Doc_Allstate.txt', '_split_id': 5}, 'embedding': None, 'id': 'acd51a67a29bee38958e1e507adcfff5'}>, <Document: {'content': 'The policy period is shown on the Policy Declarations.', 'content_type': 'text', 'score': None, 'meta': {'name': 'Policy Doc_Allstate.txt', '_split_id': 6}, 'embedding': None, 'id': 'c8938b55914ad792da8f47761d82c98f'}>, <Document: {'content': 'The premium for each auto is based on information Allstate has received from you or other sources.', 'content_type': 'text', 'score': None, 'meta': {'name': 'Policy Doc_Allstate.txt', '_split_id': 7}, 'embedding': None, 'id': 'd0c80b8eb80c743a2bb4b26ad36c4836'}>, <Document: {'content': 'You agree to cooperate with us in determining if this information is correct, if it is complete, and if it changes during the policy period.', 'content_type': 'text', 'score': None, 'meta': {'name': 'Policy Doc_Allstate.txt', '_split_id': 8}, 'embedding': None, 'id': '33b6592299c473f8e4c061870b19c6ac'}>, <Document: {'content': 'You agree that if this information changes or is incorrect or incomplete, we may adjust your premium accordingly during the policy period.', 'content_type': 'text', 'score': None, 'meta': {'name': 'Policy Doc_Allstate.txt', '_split_id': 9}, 'embedding': None, 'id': '7297eed4473c66954305a109f6a78d0a'}>, <Document: {'content': 'Changes which result in a premium adjustment are contained in our rules.', 'content_type': 'text', 'score': None, 'meta': {'name': 'Policy Doc_Allstate.txt', '_split_id': 10}, 'embedding': None, 'id': '9de40272e531fb9cfa608cc00211f1b8'}>, <Document: {'content': 'These include but are not limited to 1. autos insured by the policy, including changes in use.', 'content_type': 'text', 'score': None, 'meta': {'name': 'Policy Doc_Allstate.txt', '_split_id': 11}, 'embedding': None, 'id': 'c23521d9105323a607f2861cc1a4c3c0'}>, <Document: {'content': '2. drivers residing in your household, their ages or marital status.', 'content_type': 'text', 'score': None, 'meta': {'name': 'Policy Doc_Allstate.txt', '_split_id': 12}, 'embedding': None, 'id': 'a3ae93d750eb4b15ef57f6579c41b1f5'}>, <Document: {'content': '3. coverages or coverage limits. 4. rating territory.', 'content_type': 'text', 'score': None, 'meta': {'name': 'Policy Doc_Allstate.txt', '_split_id': 13}, 'embedding': None, 'id': 'd23288acc670fe2190a46c72166943eb'}>, <Document: {'content': '5. discount eligibility.', 'content_type': 'text', 'score': None, 'meta': {'name': 'Policy Doc_Allstate.txt', '_split_id': 14}, 'embedding': None, 'id': 'c35c67f84c623782820fa78fba299603'}>, <Document: {'content': 'Any calculation or adjustment of your premium will be made using the rules, rates and forms in effect, and on file if required, for our use in your state.', 'content_type': 'text', 'score': None, 'meta': {'name': 'Policy Doc_Allstate.txt', '_split_id': 15}, 'embedding': None, 'id': '295253169201bdca8376e9d787e258ae'}>, <Document: {'content': 'period without additional charge, you have the new feature if you have the coverage to which it applies.', 'content_type': 'text', 'score': None, 'meta': {'name': 'Policy Doc_Allstate.txt', '_split_id': 16}, 'embedding': None, 'id': 'ef0cc454b65c7875e3fd08c7eb5b91b1'}>, <Document: {'content': 'The new feature applies on the date the coverage change is effective in your state.', 'content_type': 'text', 'score': None, 'meta': {'name': 'Policy Doc_Allstate.txt', '_split_id': 17}, 'embedding': None, 'id': '39d1ff735a65ab05d5ba838633c6e33a'}>, <Document: {'content': 'Otherwise, the policy can be changed only by endorsement.', 'content_type': 'text', 'score': None, 'meta': {'name': 'Policy Doc_Allstate.txt', '_split_id': 18}, 'embedding': None, 'id': '6244bb5374b4508c4c5189fd14944057'}>, <Document: {'content': 'Any change in your coverage will be made using the rules, rates and forms in effect, and on file if required, for our use in your state.', 'content_type': 'text', 'score': None, 'meta': {'name': 'Policy Doc_Allstate.txt', '_split_id': 19}, 'embedding': None, 'id': 'b20903a3b73f1ba0c2f4202277686605'}>, <Document: {'content': 'You must tell us within 60 days when you acquire an additional or replacement auto.', 'content_type': 'text', 'score': None, 'meta': {'name': 'Policy Doc_Allstate.txt', '_split_id': 20}, 'embedding': None, 'id': 'f365504063d209c0b5b977fda2b708ed'}>, <Document: {'content': 'If you don’t, certain coverages of this policy may not apply.', 'content_type': 'text', 'score': None, 'meta': {'name': 'Policy Doc_Allstate.txt', '_split_id': 21}, 'embedding': None, 'id': 'bc64ac6d564d7dd025331428dab5e89c'}>, <Document: {'content': 'if you have two or more autos insured in your name and one of these autos is involved in an accident, only the coverage limits shown on the policy declarations for that auto will apply.', 'content_type': 'text', 'score': None, 'meta': {'name': 'Policy Doc_Allstate.txt', '_split_id': 22}, 'embedding': None, 'id': '7b185df5abb2193ee79dd0aaf4f7f2fd'}>, <Document: {'content': 'when you have two or more autos insured in your name and none of them is involved in the accident, you may choose any single auto shown on the policy declarations and the coverage limits applicable to that auto will apply.', 'content_type': 'text', 'score': None, 'meta': {'name': 'Policy Doc_Allstate.txt', '_split_id': 23}, 'embedding': None, 'id': '3ddf4ce6527bf1c1adcc157be7091e98'}>, <Document: {'content': 'the limits available for any other auto covered by the policy will not be added to the coverage for the involved or chosen auto.', 'content_type': 'text', 'score': None, 'meta': {'name': 'Policy Doc_Allstate.txt', '_split_id': 24}, 'embedding': None, 'id': '1a380a4319ae7f636472d59303386ed5'}>, <Document: {'content': 'This policy can’t be transferred to anyone without our written consent.', 'content_type': 'text', 'score': None, 'meta': {'name': 'Policy Doc_Allstate.txt', '_split_id': 25}, 'embedding': None, 'id': '7b01d4c2932b39710cc34b1a117b5b92'}>, <Document: {'content': 'However, if you die, coverage will be provided until the end of the policy period for: 1. your legal representative while acting as such, and 2. persons covered on the date of your death.', 'content_type': 'text', 'score': None, 'meta': {'name': 'Policy Doc_Allstate.txt', '_split_id': 26}, 'embedding': None, 'id': 'e2fbf19aed8c878e9d9b2dd5fd751ecf'}>, <Document: {'content': 'You may cancel this policy by writing us the future date you wish to stop coverage.', 'content_type': 'text', 'score': None, 'meta': {'name': 'Policy Doc_Allstate.txt', '_split_id': 27}, 'embedding': None, 'id': 'dad3a071c5174490c8207548004d54af'}>, <Document: {'content': 'Allstate may cancel part or all of this policy by mailing notice to you at your last known address.', 'content_type': 'text', 'score': None, 'meta': {'name': 'Policy Doc_Allstate.txt', '_split_id': 28}, 'embedding': None, 'id': '429a56e0c67f84af775bdf27966915d0'}>, <Document: {'content': 'If we cancel because you didn’t pay the premium, the date of cancellation will be at least 10 days after the date of mailing.', 'content_type': 'text', 'score': None, 'meta': {'name': 'Policy Doc_Allstate.txt', '_split_id': 29}, 'embedding': None, 'id': '66238219dea5f4ffbc6747a34e629b7'}>, <Document: {'content': 'If we cancel for any reason other\\nthan non-payment of premium, we will give you notice as follows: 1.', 'content_type': 'text', 'score': None, 'meta': {'name': 'Policy Doc_Allstate.txt', '_split_id': 30}, 'embedding': None, 'id': '3496ad516d8d3a325b7c7957e89fe393'}>, <Document: {'content': 'During the first 60 days the original policy is in effect, we will give you at least 10 days notice of cancellation.', 'content_type': 'text', 'score': None, 'meta': {'name': 'Policy Doc_Allstate.txt', '_split_id': 31}, 'embedding': None, 'id': 'c02903ed895da5407fcc6ed019747300'}>, <Document: {'content': '2.', 'content_type': 'text', 'score': None, 'meta': {'name': 'Policy Doc_Allstate.txt', '_split_id': 32}, 'embedding': None, 'id': 'b5a31039d2fbbd6fd70574cf5dfe4511'}>, <Document: {'content': 'After the first 60 days, we will give you 30 days notice of cancellation.', 'content_type': 'text', 'score': None, 'meta': {'name': 'Policy Doc_Allstate.txt', '_split_id': 33}, 'embedding': None, 'id': 'cf94ced0b1bf957776a009ae65a90f8c'}>, <Document: {'content': 'Proof of mailing the notice will be proof of notice.', 'content_type': 'text', 'score': None, 'meta': {'name': 'Policy Doc_Allstate.txt', '_split_id': 34}, 'embedding': None, 'id': '7c0b1525295b1b3ef3ddbef495340467'}>, <Document: {'content': 'A refund, if due, will be proportional to the time your policy has been in effect, but cancellation will be effective even if the refund is not made immediately.', 'content_type': 'text', 'score': None, 'meta': {'name': 'Policy Doc_Allstate.txt', '_split_id': 35}, 'embedding': None, 'id': 'c9929cca54f7718cd584cd3b3b1024eb'}>, <Document: {'content': 'After your original policy has been in effect 60 days, Allstate won’t cancel your policy unless: 1. you don’t pay the premium when it’s due; 2. you or any member of your household are convicted of a crime due to acts which increase the hazard we insure against; 3.', 'content_type': 'text', 'score': None, 'meta': {'name': 'Policy Doc_Allstate.txt', '_split_id': 36}, 'embedding': None, 'id': '377c342c988b5934cb181ae350884576'}>, <Document: {'content': 'Fraud or material misrepresentation is used in obtaining the policy or making a claim; 4.', 'content_type': 'text', 'score': None, 'meta': {'name': 'Policy Doc_Allstate.txt', '_split_id': 37}, 'embedding': None, 'id': '44e01c87bc24dabeeed937cc8318f016'}>, <Document: {'content': 'An act or omission, or a violation of any condition of the policy, occurs during the policy period which substantially and materially increases the hazard we insure against; 5.', 'content_type': 'text', 'score': None, 'meta': {'name': 'Policy Doc_Allstate.txt', '_split_id': 38}, 'embedding': None, 'id': 'e91aa92a707446b6b38d35e87b844355'}>, <Document: {'content': 'A material change in the nature or extent of the risk occurs during the policy period which causes the risk of loss to be substantially and materially increased; or 6.', 'content_type': 'text', 'score': None, 'meta': {'name': 'Policy Doc_Allstate.txt', '_split_id': 39}, 'embedding': None, 'id': '8540ed026ecc6f90358fa8317d21376d'}>, <Document: {'content': 'Allstate has mailed notice within the first 60 days that we don’t intend to continue the policy.', 'content_type': 'text', 'score': None, 'meta': {'name': 'Policy Doc_Allstate.txt', '_split_id': 40}, 'embedding': None, 'id': '53ef63925376735603a1267bc09faa32'}>, <Document: {'content': 'If we don’t intend to continue the policy beyond the current policy period, we will mail you notice at least 30 days before the end of the policy period.', 'content_type': 'text', 'score': None, 'meta': {'name': 'Policy Doc_Allstate.txt', '_split_id': 41}, 'embedding': None, 'id': '70570a8cf38a0daf5b6317570a49a6b5'}>, <Document: {'content': 'Allstate will pay for damages an insured person is legally obligated to pay because of: 1. bodily injury sustained by any person, and 2. damage to, or destruction of, property.', 'content_type': 'text', 'score': None, 'meta': {'name': 'Policy Doc_Allstate.txt', '_split_id': 42}, 'embedding': None, 'id': '359a946426c3b32e0887345f385faf9'}>, <Document: {'content': 'Under these coverages, your policy protects an insured person from liability for damages arising out of the ownership, maintenance or use, loading or unloading of an insured auto.', 'content_type': 'text', 'score': None, 'meta': {'name': 'Policy Doc_Allstate.txt', '_split_id': 43}, 'embedding': None, 'id': '20db9a84daf224ab7f5e3718afa8b94b'}>, <Document: {'content': 'We will defend an insured person sued for damages which are covered by this policy, even if the suit is groundless or false.', 'content_type': 'text', 'score': None, 'meta': {'name': 'Policy Doc_Allstate.txt', '_split_id': 44}, 'embedding': None, 'id': 'c7a91bf95200ec21c7ecd68a6b48f868'}>, <Document: {'content': 'We will choose the counsel.', 'content_type': 'text', 'score': None, 'meta': {'name': 'Policy Doc_Allstate.txt', '_split_id': 45}, 'embedding': None, 'id': '1505b87221c0dcf4b5c00ab8fb3912b3'}>, <Document: {'content': 'We may settle any claim or suit if we believe it is proper.', 'content_type': 'text', 'score': None, 'meta': {'name': 'Policy Doc_Allstate.txt', '_split_id': 46}, 'embedding': None, 'id': 'e1e020d08a4dbcebd114e6cf6907a31a'}>, <Document: {'content': 'We will not defend an insured person sued for damages which are not covered by this policy\\nWhen we defend an insured person under this part, we will pay 1. up to $50 a day for loss of wages or salary if we ask that person to attend hearings or trials to defend against a bodily injury suit.', 'content_type': 'text', 'score': None, 'meta': {'name': 'Policy Doc_Allstate.txt', '_split_id': 47}, 'embedding': None, 'id': 'c7f937113979483ed959b904578b955'}>, <Document: {'content': 'We won’t pay for loss of other income.', 'content_type': 'text', 'score': None, 'meta': {'name': 'Policy Doc_Allstate.txt', '_split_id': 48}, 'embedding': None, 'id': 'bb30e92096c665ca301eb2454e3fb88d'}>, <Document: {'content': 'We will pay other reasonable expenses incurred at our request.', 'content_type': 'text', 'score': None, 'meta': {'name': 'Policy Doc_Allstate.txt', '_split_id': 49}, 'embedding': None, 'id': 'a0fd0fce501a89bc73892bf62bf5067'}>]\n"
     ]
    }
   ],
   "source": [
    "print(docs[:50])"
   ]
  },
  {
   "cell_type": "code",
   "execution_count": null,
   "id": "b78e000b",
   "metadata": {},
   "outputs": [],
   "source": []
  },
  {
   "cell_type": "code",
   "execution_count": null,
   "id": "f9afaa8d",
   "metadata": {},
   "outputs": [],
   "source": []
  }
 ],
 "metadata": {
  "kernelspec": {
   "display_name": "Python 3 (ipykernel)",
   "language": "python",
   "name": "python3"
  },
  "language_info": {
   "codemirror_mode": {
    "name": "ipython",
    "version": 3
   },
   "file_extension": ".py",
   "mimetype": "text/x-python",
   "name": "python",
   "nbconvert_exporter": "python",
   "pygments_lexer": "ipython3",
   "version": "3.9.5"
  }
 },
 "nbformat": 4,
 "nbformat_minor": 5
}
